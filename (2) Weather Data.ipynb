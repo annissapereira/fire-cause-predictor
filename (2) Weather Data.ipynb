{
 "cells": [
  {
   "cell_type": "markdown",
   "id": "8426ba68-5ea3-4727-b119-5aa1bd523c6a",
   "metadata": {},
   "source": [
    "## 🌦 NOAA Daily Weather Dataset Description\n",
    "\n",
    "The NOAA (National Oceanic and Atmospheric Administration) daily weather dataset contains historical weather observations collected from multiple weather stations across California. These observations are recorded on a daily basis and include a wide range of meteorological variables.\n",
    "\n",
    "### 🧾 Key Features:\n",
    "| Column     | Description |\n",
    "|------------|-------------|\n",
    "| `STATION`  | Unique station ID from NOAA’s GHCN database |\n",
    "| `NAME`     | Name of the weather station |\n",
    "| `LATITUDE` | Latitude of the weather station |\n",
    "| `LONGITUDE`| Longitude of the weather station |\n",
    "| `ELEVATION`| Elevation of the station (meters) |\n",
    "| `DATE`     | Date of the observation |\n",
    "| `AWND`     | Average wind speed (tenths of meters per second) |\n",
    "| `PGTM`     | Peak gust time (HHMM) |\n",
    "| `PRCP`     | Precipitation (tenths of mm) |\n",
    "| `TMAX`     | Maximum daily temperature (tenths of °C) |\n",
    "| `TMIN`     | Minimum daily temperature (tenths of °C) |\n",
    "| `WDF2`     | Direction of fastest 2-minute wind (degrees) |\n",
    "| `WDF5`     | Direction of fastest 5-second wind (degrees) |\n",
    "| `WSF2`     | Speed of fastest 2-minute wind (tenths of m/s) |\n",
    "| `WSF5`     | Speed of fastest 5-second wind (tenths of m/s) |\n",
    "\n",
    "---\n",
    "\n",
    "## 🔥 Importance of NOAA Weather Data in Predicting Wildfire Cause\n",
    "\n",
    "Weather conditions are among the most critical environmental factors influencing wildfire **ignition**, **spread**, and **severity**. Including NOAA weather data allows us to contextualize the wildfire with respect to its surrounding climate conditions, which can be strongly correlated with the cause.\n",
    "\n",
    "### ✅ Why it Matters:\n",
    "- **High wind speeds** can indicate natural causes like **lightning-induced wildfires** or contribute to human-initiated spread.\n",
    "- **High temperatures** and **low precipitation** create dry environments, increasing flammability of vegetation.\n",
    "- **Weather direction/speed** helps assess whether fire spread was influenced by natural conditions.\n",
    "\n",
    "By aligning wildfire ignition records with historical weather conditions, we can improve the accuracy of classification models that predict the **cause of fire** (e.g., human vs. natural causes).\n",
    "\n",
    "---\n",
    "\n",
    "## 🎯 Purpose of Using NOAA Dataset\n",
    "\n",
    "1. **Feature Engineering:** Create environment-based predictors (e.g., max temp, wind speed, rainfall levels).\n",
    "2. **Modeling Fire Cause:** Use weather context to classify wildfire causes using supervised learning.\n",
    "3. **Spatial-Temporal Enrichment:** Merge weather and fire records by location/date to model ignition conditions.\n",
    "4. **Understanding Correlation:** Analyze how environmental variables contribute to specific fire causes.\n",
    "\n",
    "---\n",
    "📚 **Source:**\n",
    "This dataset is obtained from NOAA’s **Global Historical Climatology Network (GHCN)**. You can access the data [here](https://www.ncdc.noaa.gov/cdo-web/).\n",
    "\n",
    "> 🔄 The NOAA dataset enhances the temporal and environmental granularity of wildfire data, leading to more **explainable**, **reliable**, and **data-driven** predictions of fire causes.\n"
   ]
  },
  {
   "cell_type": "markdown",
   "id": "664813cf-9b7e-43ad-b735-e9f1bbc7a7fe",
   "metadata": {},
   "source": [
    "# Data Exploration: Handling Missing Values\n",
    "\n",
    "## 1. Identifying Missing Values\n",
    "\n",
    "In this step, we explore the dataset for missing values. We inspect the number of missing values in each column. Here’s an overview of the missing values count for each column in our dataset:\n"
   ]
  },
  {
   "cell_type": "code",
   "execution_count": 1,
   "id": "2b8c2b28-6872-4068-b173-4c1f7bd2c27e",
   "metadata": {},
   "outputs": [
    {
     "name": "stdout",
     "output_type": "stream",
     "text": [
      "       STATION                                  NAME  LATITUDE  LONGITUDE  \\\n",
      "0  USW00093193  FRESNO YOSEMITE INTERNATIONAL, CA US  36.77999 -119.72016   \n",
      "1  USW00093193  FRESNO YOSEMITE INTERNATIONAL, CA US  36.77999 -119.72016   \n",
      "2  USW00093193  FRESNO YOSEMITE INTERNATIONAL, CA US  36.77999 -119.72016   \n",
      "3  USW00093193  FRESNO YOSEMITE INTERNATIONAL, CA US  36.77999 -119.72016   \n",
      "4  USW00093193  FRESNO YOSEMITE INTERNATIONAL, CA US  36.77999 -119.72016   \n",
      "\n",
      "   ELEVATION      DATE   ACMH   ACSH  AWND  DAPR  ...  WT11  WT13  WT14  WT16  \\\n",
      "0      101.9  1/1/1992   40.0    0.0  3.80   NaN  ...   NaN   NaN   NaN   NaN   \n",
      "1      101.9  1/2/1992  100.0  100.0  4.70   NaN  ...   NaN   NaN   NaN   NaN   \n",
      "2      101.9  1/3/1992  100.0  100.0  3.80   NaN  ...   NaN   NaN   NaN   1.0   \n",
      "3      101.9  1/4/1992   90.0   80.0  8.72   NaN  ...   NaN   NaN   NaN   NaN   \n",
      "4      101.9  1/5/1992  100.0  100.0  8.50   NaN  ...   NaN   NaN   NaN   1.0   \n",
      "\n",
      "   WT18  WT21  WT22  WV01  WV03  WV20  \n",
      "0   NaN   NaN   NaN   NaN   NaN   NaN  \n",
      "1   NaN   NaN   NaN   NaN   NaN   NaN  \n",
      "2   NaN   NaN   NaN   NaN   NaN   NaN  \n",
      "3   NaN   NaN   NaN   NaN   NaN   NaN  \n",
      "4   NaN   NaN   NaN   NaN   NaN   NaN  \n",
      "\n",
      "[5 rows x 50 columns]\n"
     ]
    }
   ],
   "source": [
    "import pandas as pd\n",
    "\n",
    "# Define the file path\n",
    "file_path = r\"C:\\Users\\annis\\OneDrive\\Desktop\\California Wildfire\\Data Files\\3996332.csv\"\n",
    "\n",
    "# Load the CSV file into a DataFrame\n",
    "weather_df = pd.read_csv(filae_path)\n",
    "\n",
    "# Display the first few rows of the DataFrame to confirm it's loaded correctly\n",
    "print(weather_df.head())\n",
    "\n"
   ]
  },
  {
   "cell_type": "code",
   "execution_count": 2,
   "id": "0815bc1e-bb9e-4b2b-b342-82df80013314",
   "metadata": {},
   "outputs": [
    {
     "data": {
      "text/plain": [
       "Index(['STATION', 'NAME', 'LATITUDE', 'LONGITUDE', 'ELEVATION', 'DATE', 'ACMH',\n",
       "       'ACSH', 'AWND', 'DAPR', 'FMTM', 'MDPR', 'PGTM', 'PRCP', 'SNOW', 'SNWD',\n",
       "       'TAVG', 'TMAX', 'TMIN', 'TSUN', 'WDF1', 'WDF2', 'WDF5', 'WDFG', 'WDFM',\n",
       "       'WESD', 'WSF1', 'WSF2', 'WSF5', 'WSFG', 'WSFM', 'WT01', 'WT02', 'WT03',\n",
       "       'WT04', 'WT05', 'WT07', 'WT08', 'WT09', 'WT10', 'WT11', 'WT13', 'WT14',\n",
       "       'WT16', 'WT18', 'WT21', 'WT22', 'WV01', 'WV03', 'WV20'],\n",
       "      dtype='object')"
      ]
     },
     "execution_count": 2,
     "metadata": {},
     "output_type": "execute_result"
    }
   ],
   "source": [
    "weather_df.columns"
   ]
  },
  {
   "cell_type": "code",
   "execution_count": 8,
   "id": "0f1e6c2e-5509-43d5-aca6-4e84b9cddc87",
   "metadata": {},
   "outputs": [
    {
     "data": {
      "text/plain": [
       "(55999, 50)"
      ]
     },
     "execution_count": 8,
     "metadata": {},
     "output_type": "execute_result"
    }
   ],
   "source": [
    "weather_df.shape"
   ]
  },
  {
   "cell_type": "code",
   "execution_count": 6,
   "id": "4e946e05-d9e3-4601-bd17-7059df810d46",
   "metadata": {},
   "outputs": [
    {
     "data": {
      "text/plain": [
       "STATION          0\n",
       "NAME             0\n",
       "LATITUDE         0\n",
       "LONGITUDE        0\n",
       "ELEVATION        0\n",
       "DATE             0\n",
       "ACMH         51102\n",
       "ACSH         51100\n",
       "AWND          8296\n",
       "DAPR         55994\n",
       "FMTM         29975\n",
       "MDPR         55994\n",
       "PGTM         27012\n",
       "PRCP           395\n",
       "SNOW         34329\n",
       "SNWD         33523\n",
       "TAVG         34391\n",
       "TMAX          2341\n",
       "TMIN          2345\n",
       "TSUN         47204\n",
       "WDF1         54202\n",
       "WDF2         12594\n",
       "WDF5         13680\n",
       "WDFG         51233\n",
       "WDFM         54910\n",
       "WESD         38467\n",
       "WSF1         54202\n",
       "WSF2         12591\n",
       "WSF5         13671\n",
       "WSFG         51233\n",
       "WSFM         54910\n",
       "WT01         40637\n",
       "WT02         53504\n",
       "WT03         55535\n",
       "WT04         55988\n",
       "WT05         55618\n",
       "WT07         55011\n",
       "WT08         40158\n",
       "WT09         55829\n",
       "WT10         55987\n",
       "WT11         55994\n",
       "WT13         48722\n",
       "WT14         55573\n",
       "WT16         52052\n",
       "WT18         55991\n",
       "WT21         55885\n",
       "WT22         55981\n",
       "WV01         55926\n",
       "WV03         55997\n",
       "WV20         55992\n",
       "dtype: int64"
      ]
     },
     "execution_count": 6,
     "metadata": {},
     "output_type": "execute_result"
    }
   ],
   "source": [
    "weather_df.isnull().sum()"
   ]
  },
  {
   "cell_type": "markdown",
   "id": "ee0e6126-d931-4736-ae06-05c60c5c1c47",
   "metadata": {},
   "source": [
    "## 2. Handling Missing Values\n",
    "\n",
    "After exploring the missing values, we calculate the percentage of missing values for each column to identify which columns have more than 50% missing data. Columns with more than 50% missing values are considered unreliable and are dropped to maintain the quality of the dataset.\n",
    "\n",
    "We proceed by dropping columns that have over 50% missing data. \n",
    "\n",
    "Once these columns are dropped, we are left with the following important columns for further analysis:\n",
    "\n",
    "- **`STATION`**\n",
    "- **`NAME`**\n",
    "- **`LATITUDE`**\n",
    "- **`LONGITUDE`**\n",
    "- **`ELEVATION`**\n",
    "- **`DATE`**\n",
    "- **`AWND`**\n",
    "- **`PGTM`**\n",
    "- **`PRCP`**\n",
    "- **`TMAX`**\n",
    "- **`TMIN`**\n",
    "- **`WDF2`**\n",
    "- **`WDF5`**\n",
    "- **`WSF2`**\n",
    "- **`WSF5`**"
   ]
  },
  {
   "cell_type": "code",
   "execution_count": 9,
   "id": "8d04e3b2-6800-42b6-b351-5a6f3e65df72",
   "metadata": {},
   "outputs": [
    {
     "data": {
      "text/plain": [
       "WV03         99.996429\n",
       "WT11         99.991071\n",
       "MDPR         99.991071\n",
       "DAPR         99.991071\n",
       "WV20         99.987500\n",
       "WT18         99.985714\n",
       "WT04         99.980357\n",
       "WT10         99.978571\n",
       "WT22         99.967857\n",
       "WV01         99.869641\n",
       "WT21         99.796425\n",
       "WT09         99.696423\n",
       "WT05         99.319631\n",
       "WT14         99.239272\n",
       "WT03         99.171414\n",
       "WT07         98.235683\n",
       "WDFM         98.055322\n",
       "WSFM         98.055322\n",
       "WSF1         96.791014\n",
       "WDF1         96.791014\n",
       "WT02         95.544563\n",
       "WT16         92.951660\n",
       "WDFG         91.489134\n",
       "WSFG         91.489134\n",
       "ACMH         91.255201\n",
       "ACSH         91.251629\n",
       "WT13         87.005125\n",
       "TSUN         84.294362\n",
       "WT01         72.567367\n",
       "WT08         71.711995\n",
       "WESD         68.692298\n",
       "TAVG         61.413597\n",
       "SNOW         61.302880\n",
       "SNWD         59.863569\n",
       "FMTM         53.527742\n",
       "PGTM         48.236576\n",
       "WDF5         24.429008\n",
       "WSF5         24.412936\n",
       "WDF2         22.489687\n",
       "WSF2         22.484330\n",
       "AWND         14.814550\n",
       "TMIN          4.187575\n",
       "TMAX          4.180432\n",
       "PRCP          0.705370\n",
       "NAME          0.000000\n",
       "DATE          0.000000\n",
       "ELEVATION     0.000000\n",
       "LONGITUDE     0.000000\n",
       "LATITUDE      0.000000\n",
       "STATION       0.000000\n",
       "dtype: float64"
      ]
     },
     "execution_count": 9,
     "metadata": {},
     "output_type": "execute_result"
    }
   ],
   "source": [
    "missing_percent = weather_df.isnull().sum() / len(weather_df) * 100\n",
    "missing_percent.sort_values(ascending=False)"
   ]
  },
  {
   "cell_type": "code",
   "execution_count": 10,
   "id": "57c3dd2e-67b6-4b1e-a46d-4136077d1af4",
   "metadata": {},
   "outputs": [],
   "source": [
    "# Drop columns with more than 50% missing values\n",
    "threshold = 50\n",
    "cols_to_drop = missing_percent[missing_percent > threshold].index\n",
    "weather_df.drop(columns=cols_to_drop, inplace=True)"
   ]
  },
  {
   "cell_type": "markdown",
   "id": "53823968-9477-4632-a963-1b8921a994f1",
   "metadata": {},
   "source": [
    "\n",
    "## 3. Imputing Remaining Missing Values\n",
    "\n",
    "For the remaining columns, we choose to impute missing values using the **median**. \n",
    "\n",
    "### Why Impute with Median?\n",
    "\n",
    "The **median** is a good choice for imputing missing values because it is less sensitive to outliers compared to the mean. Weather data is prone to extreme values (e.g., storms or temperature spikes), which can skew the mean. The median, on the other hand, represents the central tendency of the data without being influenced by extreme values, making it more robust for imputation.\n",
    "\n",
    "- **Robustness to Outliers**: The median is not influenced by extreme values, so it prevents any skewed data from distorting the imputation process.\n",
    "- **Preserving Data Distribution**: Since weather data often contains outliers (e.g., extreme weather events), using the median ensures that the imputed values are more representative of the data’s central tendency.\n",
    "- **Maintaining Consistency**: Imputing with the median ensures that the model training process remains consistent without introducing unnecessary bias that might occur with extreme outliers.\n"
   ]
  },
  {
   "cell_type": "code",
   "execution_count": 11,
   "id": "39f073b0-2461-44dc-88f6-59a31654104f",
   "metadata": {},
   "outputs": [],
   "source": [
    "# Optional Fill remaining NaNs with column-wise median\n",
    "weather_df.fillna(weather_df.median(numeric_only=True), inplace=True)"
   ]
  },
  {
   "cell_type": "code",
   "execution_count": 12,
   "id": "ce170437-dbb4-4429-ab4d-f82d7d295890",
   "metadata": {},
   "outputs": [
    {
     "data": {
      "text/plain": [
       "Index(['STATION', 'NAME', 'LATITUDE', 'LONGITUDE', 'ELEVATION', 'DATE', 'AWND',\n",
       "       'PGTM', 'PRCP', 'TMAX', 'TMIN', 'WDF2', 'WDF5', 'WSF2', 'WSF5'],\n",
       "      dtype='object')"
      ]
     },
     "execution_count": 12,
     "metadata": {},
     "output_type": "execute_result"
    }
   ],
   "source": [
    "weather_df.columns "
   ]
  },
  {
   "cell_type": "raw",
   "id": "7dfcaf09-7e1d-4a19-8219-629b951555e1",
   "metadata": {},
   "source": [
    "Index(['STATION', 'NAME', 'LATITUDE', 'LONGITUDE', 'ELEVATION', 'DATE', 'AWND',\n",
    "       'PGTM', 'PRCP', 'TMAX', 'TMIN', 'WDF2', 'WDF5', 'WSF2', 'WSF5'],\n",
    "      dtype='object')"
   ]
  },
  {
   "cell_type": "code",
   "execution_count": 14,
   "id": "60e999cd-4f02-4ca5-b25a-16b405623f08",
   "metadata": {},
   "outputs": [
    {
     "data": {
      "text/plain": [
       "STATION\n",
       "USW00093193    10593\n",
       "USW00023174    10593\n",
       "USW00023188    10593\n",
       "USW00003171     8216\n",
       "USW00023257     8185\n",
       "MXN00021053     5947\n",
       "US1CASR0055     1872\n",
       "Name: count, dtype: int64"
      ]
     },
     "execution_count": 14,
     "metadata": {},
     "output_type": "execute_result"
    }
   ],
   "source": [
    "weather_df['STATION'].value_counts()"
   ]
  },
  {
   "cell_type": "code",
   "execution_count": 15,
   "id": "46dc2ad5-3790-48ec-b7a1-6eea9d2dc11d",
   "metadata": {},
   "outputs": [
    {
     "data": {
      "text/plain": [
       "NAME\n",
       "FRESNO YOSEMITE INTERNATIONAL, CA US        10593\n",
       "LOS ANGELES INTERNATIONAL AIRPORT, CA US    10593\n",
       "SAN DIEGO INTERNATIONAL AIRPORT, CA US      10593\n",
       "RIVERSIDE MUNICIPAL AIRPORT, CA US           8216\n",
       "MERCED MUNICIPAL AIRPORT, CA US              8185\n",
       "SAN BERNARDINO LAGUNAS, MX                   5947\n",
       "SAN BERNARDINO 5.1 NW, CA US                 1872\n",
       "Name: count, dtype: int64"
      ]
     },
     "execution_count": 15,
     "metadata": {},
     "output_type": "execute_result"
    }
   ],
   "source": [
    "weather_df['NAME'].value_counts()"
   ]
  },
  {
   "cell_type": "code",
   "execution_count": 16,
   "id": "5ad8a11c-a6e2-440f-94ea-056af862ae34",
   "metadata": {},
   "outputs": [
    {
     "data": {
      "text/plain": [
       "STATION      0\n",
       "NAME         0\n",
       "LATITUDE     0\n",
       "LONGITUDE    0\n",
       "ELEVATION    0\n",
       "DATE         0\n",
       "AWND         0\n",
       "PGTM         0\n",
       "PRCP         0\n",
       "TMAX         0\n",
       "TMIN         0\n",
       "WDF2         0\n",
       "WDF5         0\n",
       "WSF2         0\n",
       "WSF5         0\n",
       "dtype: int64"
      ]
     },
     "execution_count": 16,
     "metadata": {},
     "output_type": "execute_result"
    }
   ],
   "source": [
    "weather_df.isnull().sum()"
   ]
  },
  {
   "cell_type": "code",
   "execution_count": 17,
   "id": "f30011ee-d735-4c1c-b556-b2f4bd08965e",
   "metadata": {},
   "outputs": [
    {
     "data": {
      "text/html": [
       "<div>\n",
       "<style scoped>\n",
       "    .dataframe tbody tr th:only-of-type {\n",
       "        vertical-align: middle;\n",
       "    }\n",
       "\n",
       "    .dataframe tbody tr th {\n",
       "        vertical-align: top;\n",
       "    }\n",
       "\n",
       "    .dataframe thead th {\n",
       "        text-align: right;\n",
       "    }\n",
       "</style>\n",
       "<table border=\"1\" class=\"dataframe\">\n",
       "  <thead>\n",
       "    <tr style=\"text-align: right;\">\n",
       "      <th></th>\n",
       "      <th>STATION</th>\n",
       "      <th>NAME</th>\n",
       "      <th>LATITUDE</th>\n",
       "      <th>LONGITUDE</th>\n",
       "      <th>ELEVATION</th>\n",
       "      <th>DATE</th>\n",
       "      <th>AWND</th>\n",
       "      <th>PGTM</th>\n",
       "      <th>PRCP</th>\n",
       "      <th>TMAX</th>\n",
       "      <th>TMIN</th>\n",
       "      <th>WDF2</th>\n",
       "      <th>WDF5</th>\n",
       "      <th>WSF2</th>\n",
       "      <th>WSF5</th>\n",
       "    </tr>\n",
       "  </thead>\n",
       "  <tbody>\n",
       "    <tr>\n",
       "      <th>0</th>\n",
       "      <td>USW00093193</td>\n",
       "      <td>FRESNO YOSEMITE INTERNATIONAL, CA US</td>\n",
       "      <td>36.77999</td>\n",
       "      <td>-119.72016</td>\n",
       "      <td>101.9</td>\n",
       "      <td>1/1/1992</td>\n",
       "      <td>3.80</td>\n",
       "      <td>2100.0</td>\n",
       "      <td>0.00</td>\n",
       "      <td>59.0</td>\n",
       "      <td>32.0</td>\n",
       "      <td>270.0</td>\n",
       "      <td>270.0</td>\n",
       "      <td>15.0</td>\n",
       "      <td>19.0</td>\n",
       "    </tr>\n",
       "    <tr>\n",
       "      <th>1</th>\n",
       "      <td>USW00093193</td>\n",
       "      <td>FRESNO YOSEMITE INTERNATIONAL, CA US</td>\n",
       "      <td>36.77999</td>\n",
       "      <td>-119.72016</td>\n",
       "      <td>101.9</td>\n",
       "      <td>1/2/1992</td>\n",
       "      <td>4.70</td>\n",
       "      <td>222.0</td>\n",
       "      <td>0.00</td>\n",
       "      <td>46.0</td>\n",
       "      <td>40.0</td>\n",
       "      <td>270.0</td>\n",
       "      <td>270.0</td>\n",
       "      <td>15.0</td>\n",
       "      <td>19.0</td>\n",
       "    </tr>\n",
       "    <tr>\n",
       "      <th>2</th>\n",
       "      <td>USW00093193</td>\n",
       "      <td>FRESNO YOSEMITE INTERNATIONAL, CA US</td>\n",
       "      <td>36.77999</td>\n",
       "      <td>-119.72016</td>\n",
       "      <td>101.9</td>\n",
       "      <td>1/3/1992</td>\n",
       "      <td>3.80</td>\n",
       "      <td>523.0</td>\n",
       "      <td>0.07</td>\n",
       "      <td>52.0</td>\n",
       "      <td>41.0</td>\n",
       "      <td>270.0</td>\n",
       "      <td>270.0</td>\n",
       "      <td>15.0</td>\n",
       "      <td>19.0</td>\n",
       "    </tr>\n",
       "    <tr>\n",
       "      <th>3</th>\n",
       "      <td>USW00093193</td>\n",
       "      <td>FRESNO YOSEMITE INTERNATIONAL, CA US</td>\n",
       "      <td>36.77999</td>\n",
       "      <td>-119.72016</td>\n",
       "      <td>101.9</td>\n",
       "      <td>1/4/1992</td>\n",
       "      <td>8.72</td>\n",
       "      <td>2309.0</td>\n",
       "      <td>0.00</td>\n",
       "      <td>60.0</td>\n",
       "      <td>43.0</td>\n",
       "      <td>270.0</td>\n",
       "      <td>270.0</td>\n",
       "      <td>15.0</td>\n",
       "      <td>19.0</td>\n",
       "    </tr>\n",
       "    <tr>\n",
       "      <th>4</th>\n",
       "      <td>USW00093193</td>\n",
       "      <td>FRESNO YOSEMITE INTERNATIONAL, CA US</td>\n",
       "      <td>36.77999</td>\n",
       "      <td>-119.72016</td>\n",
       "      <td>101.9</td>\n",
       "      <td>1/5/1992</td>\n",
       "      <td>8.50</td>\n",
       "      <td>422.0</td>\n",
       "      <td>1.02</td>\n",
       "      <td>59.0</td>\n",
       "      <td>44.0</td>\n",
       "      <td>270.0</td>\n",
       "      <td>270.0</td>\n",
       "      <td>15.0</td>\n",
       "      <td>19.0</td>\n",
       "    </tr>\n",
       "  </tbody>\n",
       "</table>\n",
       "</div>"
      ],
      "text/plain": [
       "       STATION                                  NAME  LATITUDE  LONGITUDE  \\\n",
       "0  USW00093193  FRESNO YOSEMITE INTERNATIONAL, CA US  36.77999 -119.72016   \n",
       "1  USW00093193  FRESNO YOSEMITE INTERNATIONAL, CA US  36.77999 -119.72016   \n",
       "2  USW00093193  FRESNO YOSEMITE INTERNATIONAL, CA US  36.77999 -119.72016   \n",
       "3  USW00093193  FRESNO YOSEMITE INTERNATIONAL, CA US  36.77999 -119.72016   \n",
       "4  USW00093193  FRESNO YOSEMITE INTERNATIONAL, CA US  36.77999 -119.72016   \n",
       "\n",
       "   ELEVATION      DATE  AWND    PGTM  PRCP  TMAX  TMIN   WDF2   WDF5  WSF2  \\\n",
       "0      101.9  1/1/1992  3.80  2100.0  0.00  59.0  32.0  270.0  270.0  15.0   \n",
       "1      101.9  1/2/1992  4.70   222.0  0.00  46.0  40.0  270.0  270.0  15.0   \n",
       "2      101.9  1/3/1992  3.80   523.0  0.07  52.0  41.0  270.0  270.0  15.0   \n",
       "3      101.9  1/4/1992  8.72  2309.0  0.00  60.0  43.0  270.0  270.0  15.0   \n",
       "4      101.9  1/5/1992  8.50   422.0  1.02  59.0  44.0  270.0  270.0  15.0   \n",
       "\n",
       "   WSF5  \n",
       "0  19.0  \n",
       "1  19.0  \n",
       "2  19.0  \n",
       "3  19.0  \n",
       "4  19.0  "
      ]
     },
     "execution_count": 17,
     "metadata": {},
     "output_type": "execute_result"
    }
   ],
   "source": [
    "weather_df.head()"
   ]
  },
  {
   "cell_type": "code",
   "execution_count": 19,
   "id": "7ee5e89c-4747-4754-8795-fb75157f94b1",
   "metadata": {},
   "outputs": [
    {
     "data": {
      "text/plain": [
       "0       1992-01-01\n",
       "1       1992-01-02\n",
       "2       1992-01-03\n",
       "3       1992-01-04\n",
       "4       1992-01-05\n",
       "           ...    \n",
       "55994   2020-12-27\n",
       "55995   2020-12-28\n",
       "55996   2020-12-29\n",
       "55997   2020-12-30\n",
       "55998   2020-12-31\n",
       "Name: DATE, Length: 55999, dtype: datetime64[ns]"
      ]
     },
     "execution_count": 19,
     "metadata": {},
     "output_type": "execute_result"
    }
   ],
   "source": [
    "import pandas as pd\n",
    "weather_df['DATE'] = pd.to_datetime(weather_df['DATE'])\n",
    "weather_df['DATE']"
   ]
  },
  {
   "cell_type": "code",
   "execution_count": 20,
   "id": "232e85fe-0d58-4408-bc11-8edaf78a157c",
   "metadata": {},
   "outputs": [
    {
     "data": {
      "text/html": [
       "<div>\n",
       "<style scoped>\n",
       "    .dataframe tbody tr th:only-of-type {\n",
       "        vertical-align: middle;\n",
       "    }\n",
       "\n",
       "    .dataframe tbody tr th {\n",
       "        vertical-align: top;\n",
       "    }\n",
       "\n",
       "    .dataframe thead th {\n",
       "        text-align: right;\n",
       "    }\n",
       "</style>\n",
       "<table border=\"1\" class=\"dataframe\">\n",
       "  <thead>\n",
       "    <tr style=\"text-align: right;\">\n",
       "      <th></th>\n",
       "      <th>STATION</th>\n",
       "      <th>NAME</th>\n",
       "      <th>LATITUDE</th>\n",
       "      <th>LONGITUDE</th>\n",
       "      <th>ELEVATION</th>\n",
       "      <th>DATE</th>\n",
       "      <th>AWND</th>\n",
       "      <th>PGTM</th>\n",
       "      <th>PRCP</th>\n",
       "      <th>TMAX</th>\n",
       "      <th>TMIN</th>\n",
       "      <th>WDF2</th>\n",
       "      <th>WDF5</th>\n",
       "      <th>WSF2</th>\n",
       "      <th>WSF5</th>\n",
       "    </tr>\n",
       "  </thead>\n",
       "  <tbody>\n",
       "    <tr>\n",
       "      <th>0</th>\n",
       "      <td>USW00093193</td>\n",
       "      <td>FRESNO YOSEMITE INTERNATIONAL, CA US</td>\n",
       "      <td>36.77999</td>\n",
       "      <td>-119.72016</td>\n",
       "      <td>101.9</td>\n",
       "      <td>1992-01-01</td>\n",
       "      <td>3.80</td>\n",
       "      <td>2100.0</td>\n",
       "      <td>0.00</td>\n",
       "      <td>59.0</td>\n",
       "      <td>32.0</td>\n",
       "      <td>270.0</td>\n",
       "      <td>270.0</td>\n",
       "      <td>15.0</td>\n",
       "      <td>19.0</td>\n",
       "    </tr>\n",
       "    <tr>\n",
       "      <th>1</th>\n",
       "      <td>USW00093193</td>\n",
       "      <td>FRESNO YOSEMITE INTERNATIONAL, CA US</td>\n",
       "      <td>36.77999</td>\n",
       "      <td>-119.72016</td>\n",
       "      <td>101.9</td>\n",
       "      <td>1992-01-02</td>\n",
       "      <td>4.70</td>\n",
       "      <td>222.0</td>\n",
       "      <td>0.00</td>\n",
       "      <td>46.0</td>\n",
       "      <td>40.0</td>\n",
       "      <td>270.0</td>\n",
       "      <td>270.0</td>\n",
       "      <td>15.0</td>\n",
       "      <td>19.0</td>\n",
       "    </tr>\n",
       "    <tr>\n",
       "      <th>2</th>\n",
       "      <td>USW00093193</td>\n",
       "      <td>FRESNO YOSEMITE INTERNATIONAL, CA US</td>\n",
       "      <td>36.77999</td>\n",
       "      <td>-119.72016</td>\n",
       "      <td>101.9</td>\n",
       "      <td>1992-01-03</td>\n",
       "      <td>3.80</td>\n",
       "      <td>523.0</td>\n",
       "      <td>0.07</td>\n",
       "      <td>52.0</td>\n",
       "      <td>41.0</td>\n",
       "      <td>270.0</td>\n",
       "      <td>270.0</td>\n",
       "      <td>15.0</td>\n",
       "      <td>19.0</td>\n",
       "    </tr>\n",
       "    <tr>\n",
       "      <th>3</th>\n",
       "      <td>USW00093193</td>\n",
       "      <td>FRESNO YOSEMITE INTERNATIONAL, CA US</td>\n",
       "      <td>36.77999</td>\n",
       "      <td>-119.72016</td>\n",
       "      <td>101.9</td>\n",
       "      <td>1992-01-04</td>\n",
       "      <td>8.72</td>\n",
       "      <td>2309.0</td>\n",
       "      <td>0.00</td>\n",
       "      <td>60.0</td>\n",
       "      <td>43.0</td>\n",
       "      <td>270.0</td>\n",
       "      <td>270.0</td>\n",
       "      <td>15.0</td>\n",
       "      <td>19.0</td>\n",
       "    </tr>\n",
       "    <tr>\n",
       "      <th>4</th>\n",
       "      <td>USW00093193</td>\n",
       "      <td>FRESNO YOSEMITE INTERNATIONAL, CA US</td>\n",
       "      <td>36.77999</td>\n",
       "      <td>-119.72016</td>\n",
       "      <td>101.9</td>\n",
       "      <td>1992-01-05</td>\n",
       "      <td>8.50</td>\n",
       "      <td>422.0</td>\n",
       "      <td>1.02</td>\n",
       "      <td>59.0</td>\n",
       "      <td>44.0</td>\n",
       "      <td>270.0</td>\n",
       "      <td>270.0</td>\n",
       "      <td>15.0</td>\n",
       "      <td>19.0</td>\n",
       "    </tr>\n",
       "  </tbody>\n",
       "</table>\n",
       "</div>"
      ],
      "text/plain": [
       "       STATION                                  NAME  LATITUDE  LONGITUDE  \\\n",
       "0  USW00093193  FRESNO YOSEMITE INTERNATIONAL, CA US  36.77999 -119.72016   \n",
       "1  USW00093193  FRESNO YOSEMITE INTERNATIONAL, CA US  36.77999 -119.72016   \n",
       "2  USW00093193  FRESNO YOSEMITE INTERNATIONAL, CA US  36.77999 -119.72016   \n",
       "3  USW00093193  FRESNO YOSEMITE INTERNATIONAL, CA US  36.77999 -119.72016   \n",
       "4  USW00093193  FRESNO YOSEMITE INTERNATIONAL, CA US  36.77999 -119.72016   \n",
       "\n",
       "   ELEVATION       DATE  AWND    PGTM  PRCP  TMAX  TMIN   WDF2   WDF5  WSF2  \\\n",
       "0      101.9 1992-01-01  3.80  2100.0  0.00  59.0  32.0  270.0  270.0  15.0   \n",
       "1      101.9 1992-01-02  4.70   222.0  0.00  46.0  40.0  270.0  270.0  15.0   \n",
       "2      101.9 1992-01-03  3.80   523.0  0.07  52.0  41.0  270.0  270.0  15.0   \n",
       "3      101.9 1992-01-04  8.72  2309.0  0.00  60.0  43.0  270.0  270.0  15.0   \n",
       "4      101.9 1992-01-05  8.50   422.0  1.02  59.0  44.0  270.0  270.0  15.0   \n",
       "\n",
       "   WSF5  \n",
       "0  19.0  \n",
       "1  19.0  \n",
       "2  19.0  \n",
       "3  19.0  \n",
       "4  19.0  "
      ]
     },
     "execution_count": 20,
     "metadata": {},
     "output_type": "execute_result"
    }
   ],
   "source": [
    "weather_df.head()"
   ]
  },
  {
   "cell_type": "markdown",
   "id": "652dfba9-09c4-43ce-9364-4b82cbe2d1e8",
   "metadata": {},
   "source": [
    "## 4. Data Cleaning Summary\n",
    "\n",
    "After handling missing values by:\n",
    "1. Dropping columns with more than 50% missing data.\n",
    "2. Imputing the remaining missing values with the median.\n",
    "\n",
    "We are left with a cleaner, more reliable dataset containing the following columns:\n",
    "\n",
    "- **`STATION`**: Station identifier.\n",
    "- **`NAME`**: Name of the station.\n",
    "- **`LATITUDE`**: Latitude of the station.\n",
    "- **`LONGITUDE`**: Longitude of the station.\n",
    "- **`ELEVATION`**: Elevation of the station.\n",
    "- **`DATE`**: The date of the observation.\n",
    "- **`AWND`**: Average wind speed.\n",
    "- **`PGTM`**: Peak gust time.\n",
    "- **`PRCP`**: Precipitation.\n",
    "- **`TMAX`**: Maximum temperature.\n",
    "- **`TMIN`**: Minimum temperature.\n",
    "- **`WDF2`**: Wind direction (2-minute average).\n",
    "- **`WDF5`**: Wind direction (5-second maximum).\n",
    "- **`WSF2`**: Wind speed (2-minute average).\n",
    "- **`WSF5`**: Wind speed (5-second maximum).\n",
    "\n",
    "This cleaned dataset is now ready for further exploration and modeling for **wildfire prediction**.\n"
   ]
  },
  {
   "cell_type": "code",
   "execution_count": 21,
   "id": "d81a1ef6-9d82-4dd8-8ba3-c1e420359fa8",
   "metadata": {},
   "outputs": [],
   "source": [
    "# Save the CAL_FIRE dataframe to a CSV file\n",
    "weather_df.to_csv('Weather_Database.csv', index=False)"
   ]
  },
  {
   "cell_type": "code",
   "execution_count": 25,
   "id": "454a0a64-b2a5-44c7-ab2e-80b0041f407b",
   "metadata": {},
   "outputs": [
    {
     "data": {
      "text/plain": [
       "(55999, 15)"
      ]
     },
     "execution_count": 25,
     "metadata": {},
     "output_type": "execute_result"
    }
   ],
   "source": [
    "weather_df.shape"
   ]
  },
  {
   "cell_type": "markdown",
   "id": "0fe54c42-0464-48a4-829b-e4f4aa0f5fb0",
   "metadata": {},
   "source": [
    "## 🌲 NOAA Weather Data Columns: Full Forms & Wildfire Relevance\n",
    "\n",
    "### 🛰️ Station Metadata\n",
    "- **STATION**: Unique identifier for the weather station.\n",
    "- **NAME**: Name of the station (helps geolocate the readings).\n",
    "- **LATITUDE** / **LONGITUDE**: Coordinates of the weather station — crucial for mapping to fire locations.\n",
    "- **ELEVATION**: Station elevation above sea level (in meters) — impacts temperature, wind, and precipitation.\n",
    "\n",
    "These help in **spatial matching** with California wildfire locations (e.g., FRAP dataset).\n",
    "\n",
    "---\n",
    "\n",
    "### 📅 Temporal Data\n",
    "- **DATE**: The observation date (YYYY-MM-DD) — used to align weather conditions with wildfire start dates.\n",
    "\n",
    "---\n",
    "\n",
    "### 🌬️ Wind Features\n",
    "- **AWND**: *Average Daily Wind Speed* (in meters per second)  \n",
    "  ⏩ High wind speeds increase wildfire spread potential and direction.\n",
    "\n",
    "- **WDF2** / **WDF5**: *Direction of Fastest 2-minute / 5-second Wind*  \n",
    "  ⏩ Indicates wind direction before and during peak gusts — important for modeling spread direction.\n",
    "\n",
    "- **WSF2** / **WSF5**: *Fastest 2-minute / 5-second Wind Speed*  \n",
    "  ⏩ Sudden wind gusts can ignite or rapidly expand fires — useful for early risk detection.\n",
    "\n",
    "---\n",
    "\n",
    "### 🌧️ Precipitation & Soil Moisture\n",
    "- **PRCP**: *Daily Precipitation* (in tenths of mm)  \n",
    "  ⏩ Less rainfall = drier vegetation → higher fire risk.\n",
    "\n",
    "- **PGTM**: *Peak Gust Time*  \n",
    "  ⏩ When the peak wind gust occurred. Combined with wind speed and fire start times, it can reveal ignition patterns.\n",
    "\n",
    "---\n",
    "\n",
    "### 🌡️ Temperature\n",
    "- **TMAX**: *Maximum Daily Temperature* (tenths of °C)  \n",
    "  ⏩ Hot days dry out fuel sources faster, increasing risk.\n",
    "\n",
    "- **TMIN**: *Minimum Daily Temperature* (tenths of °C)  \n",
    "  ⏩ Helps understand diurnal variation; low nighttime temps slow spread, but warm nights can maintain combustion.\n",
    "\n",
    "---\n",
    "\n",
    "## 🔥 Summary: Why These Features Matter for Wildfires\n",
    "\n",
    "These variables represent **key fire-driving weather patterns**:\n",
    "- Wind (spread and direction)\n",
    "- Temperature (fuel ignition and drying)\n",
    "- Precipitation (fuel moisture)\n",
    "- Location + Time (to align with fire incidents)\n",
    "\n",
    "When merged with the **California FRAP wildfire dataset**, they can help **build predictive models**, **assess fire risk**, or **analyze historical trends**.\n",
    "\n",
    "---\n",
    "\n",
    "### 🚀 Data Cleaning & Readiness\n",
    "\n",
    "The dataset has been **cleaned** by addressing missing values, imputing with the median, and dropping columns with more than 50% missing data. It is now **ready to be merged** with other relevant datasets, like the **California FRAP wildfire dataset**, for further analysis, prediction, and model building for wildfire cause prediction and risk assessment.\n"
   ]
  }
 ],
 "metadata": {
  "kernelspec": {
   "display_name": "Python 3 (ipykernel)",
   "language": "python",
   "name": "python3"
  },
  "language_info": {
   "codemirror_mode": {
    "name": "ipython",
    "version": 3
   },
   "file_extension": ".py",
   "mimetype": "text/x-python",
   "name": "python",
   "nbconvert_exporter": "python",
   "pygments_lexer": "ipython3",
   "version": "3.12.3"
  }
 },
 "nbformat": 4,
 "nbformat_minor": 5
}
